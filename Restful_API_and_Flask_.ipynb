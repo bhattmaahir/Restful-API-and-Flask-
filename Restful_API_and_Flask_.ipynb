{
  "nbformat": 4,
  "nbformat_minor": 0,
  "metadata": {
    "colab": {
      "provenance": []
    },
    "kernelspec": {
      "name": "python3",
      "display_name": "Python 3"
    },
    "language_info": {
      "name": "python"
    }
  },
  "cells": [
    {
      "cell_type": "markdown",
      "source": [
        "# Restful API and Flask"
      ],
      "metadata": {
        "id": "PTKHkww74eB0"
      }
    },
    {
      "cell_type": "markdown",
      "source": [
        "1. What is a RESTful API?\n",
        "    \n",
        "    A RESTful API (Representational State Transfer) is an architectural style for designing networked applications. It uses standard HTTP methods (GET, POST, PUT, DELETE) to access and manipulate resources, which are represented in formats like JSON or XML.\n",
        "\n",
        "\n",
        "\n"
      ],
      "metadata": {
        "id": "0PQ5Ww9v4seM"
      }
    },
    {
      "cell_type": "markdown",
      "source": [
        "2. Explain the concept of API specification\n",
        "    \n",
        "    An API specification defines how clients can interact with an API. It outlines the endpoints, HTTP methods, request/response formats, parameters, authentication methods, and expected behaviors. Tools like Swagger/OpenAPI help document and visualize API specs."
      ],
      "metadata": {
        "id": "wfqcyVXU4slU"
      }
    },
    {
      "cell_type": "markdown",
      "source": [
        "3. What is Flask, and why is it popular for building APIs?\n",
        "    \n",
        "    Flask is a lightweight Python web framework used to build web applications and APIs. It's popular because it's simple, flexible, has a small learning curve, and provides essential features through extensions.\n",
        "\n"
      ],
      "metadata": {
        "id": "FNhgWTnm4ss4"
      }
    },
    {
      "cell_type": "markdown",
      "source": [
        "4. What is routing in Flask?\n",
        "\n",
        "    Routing in Flask maps URLs to Python functions. When a user visits a route, Flask executes the associated function."
      ],
      "metadata": {
        "id": "tWmCYAoh4szM"
      }
    },
    {
      "cell_type": "markdown",
      "source": [
        "5. How do you create a simple Flask application?\n",
        "\n",
        "    A simple Flask application is created by initializing a Flask object, defining a route using the @app.route() decorator, and providing a function that returns a response. The application is run using app.run(), which starts a local development server."
      ],
      "metadata": {
        "id": "Ao--e6MJ4s64"
      }
    },
    {
      "cell_type": "markdown",
      "source": [
        "6. What are HTTP methods used in RESTful APIs?\n",
        "\n",
        "    GET – Retrieve data\n",
        "\n",
        "    POST – Create new data\n",
        "\n",
        "    PUT – Update existing data\n",
        "\n",
        "    DELETE – Remove data\n",
        "\n",
        "    PATCH – Partially update data\n",
        "\n",
        "\n"
      ],
      "metadata": {
        "id": "BNcAZTI14tAX"
      }
    },
    {
      "cell_type": "markdown",
      "source": [
        "7. What is the purpose of the @app.route() decorator in Flask?\n",
        "\n",
        "    It binds a function to a URL, defining an endpoint and the method used to access it.\n",
        "\n",
        "\n"
      ],
      "metadata": {
        "id": "2ND7VWTp4tGH"
      }
    },
    {
      "cell_type": "markdown",
      "source": [
        "8. What is the difference between GET and POST HTTP methods?\n",
        "\n",
        "    GET: Retrieves data, sent via URL, safe and idempotent.\n",
        "\n",
        "    POST: Sends data to the server (like form data), modifies state, not idempotent."
      ],
      "metadata": {
        "id": "wI5HPjkA4tLs"
      }
    },
    {
      "cell_type": "markdown",
      "source": [
        "9. How do you handle errors in Flask APIs?\n",
        "\n",
        "    Errors in Flask APIs are handled using the @app.errorhandler() decorator, which defines custom responses for specific HTTP error codes like 404 or 500.\n"
      ],
      "metadata": {
        "id": "Ucb0NcgT4tRO"
      }
    },
    {
      "cell_type": "markdown",
      "source": [
        "\n",
        "10. How do you connect Flask to a SQL database?\n",
        "\n",
        "    Flask connects to a SQL database using extensions like Flask-SQLAlchemy, which provides ORM support and simplifies database interactions."
      ],
      "metadata": {
        "id": "hhTOf5C64tXg"
      }
    },
    {
      "cell_type": "markdown",
      "source": [
        "11. What is the role of Flask-SQLAlchemy?\n",
        "\n",
        "    It simplifies using SQLAlchemy with Flask, handling database connections, models, and queries easily.\n"
      ],
      "metadata": {
        "id": "QIvF4ADL4tdl"
      }
    },
    {
      "cell_type": "markdown",
      "source": [
        "\n",
        "12. What are Flask blueprints, and how are they useful?\n",
        "\n",
        "    Blueprints help organize large Flask apps by grouping routes and logic. They're like mini-apps.\n",
        "\n"
      ],
      "metadata": {
        "id": "nTZcbpC84tjk"
      }
    },
    {
      "cell_type": "markdown",
      "source": [
        "\n",
        "13. What is the purpose of Flask's request object?\n",
        "\n",
        "    It gives access to request data like form fields, JSON, headers, and method.\n"
      ],
      "metadata": {
        "id": "SH41_MqD4tqV"
      }
    },
    {
      "cell_type": "markdown",
      "source": [
        "14. How do you create a RESTful API endpoint using Flask?\n",
        "\n",
        "    A RESTful API endpoint in Flask is created using the @app.route() decorator with a specific URL and HTTP method, returning data typically in JSON format.\n"
      ],
      "metadata": {
        "id": "sY9JfTNP4tw0"
      }
    },
    {
      "cell_type": "markdown",
      "source": [
        "\n",
        "15. What is the purpose of Flask's jsonify() function?\n",
        "\n",
        "    The jsonify() function in Flask converts Python dictionaries or lists into JSON responses with the correct content type (application/json).\n",
        "\n"
      ],
      "metadata": {
        "id": "psdz5tWg4t3o"
      }
    },
    {
      "cell_type": "markdown",
      "source": [
        "16. Explain Flask’s url_for() function.\n",
        "\n",
        "    The url_for() function dynamically generates URLs for view functions based on their name, helping avoid hardcoded links in Flask applications.\n"
      ],
      "metadata": {
        "id": "SDFAnSQh4t-e"
      }
    },
    {
      "cell_type": "markdown",
      "source": [
        "\n",
        "17. How does Flask handle static files (CSS, JavaScript, etc.)?\n",
        "\n",
        "    Flask serves static files from a folder named static/, and they can be accessed using the /static/ path in the URL.\n"
      ],
      "metadata": {
        "id": "oNqQbi224uF6"
      }
    },
    {
      "cell_type": "markdown",
      "source": [
        "\n",
        "18. What is an API specification, and how does it help in building a Flask API?\n",
        "\n",
        "    An API specification is a formal description of an API’s structure, endpoints, request/response formats, and it helps guide development and ensure consistency.\n"
      ],
      "metadata": {
        "id": "mmYDj3g44uMg"
      }
    },
    {
      "cell_type": "markdown",
      "source": [
        "\n",
        "19. What are HTTP status codes, and why are they important in a Flask API?\n",
        "\n",
        "    HTTP status codes are numeric codes returned in responses to indicate the result of a request (e.g., 200 OK, 404 Not Found), helping clients understand the outcome.\n"
      ],
      "metadata": {
        "id": "h3XRT38V4uTP"
      }
    },
    {
      "cell_type": "markdown",
      "source": [
        "\n",
        "20. How do you handle POST requests in Flask?\n",
        "\n",
        "    POST requests in Flask are handled by specifying methods=['POST'] in a route and accessing submitted data using request.form or request.json."
      ],
      "metadata": {
        "id": "7H9DZJAO4uZv"
      }
    },
    {
      "cell_type": "markdown",
      "source": [
        "21. How would you secure a Flask API?\n",
        "\n",
        "    Use HTTPS\n",
        "\n",
        "    Implement authentication (JWT, OAuth)\n",
        "\n",
        "    Validate input\n",
        "\n",
        "    Limit request rates (rate-limiting)\n",
        "\n",
        "    Use Flask extensions like Flask-JWT, Flask-Login, Flask-CORS\n",
        "\n"
      ],
      "metadata": {
        "id": "jOXz2C0t4uhD"
      }
    },
    {
      "cell_type": "markdown",
      "source": [
        "\n",
        "22. What is the significance of the Flask-RESTful extension?\n",
        "\n",
        "    It helps build REST APIs more easily by adding classes for resources and automatic response handling.\n",
        "\n"
      ],
      "metadata": {
        "id": "VDyal7OS4uoA"
      }
    },
    {
      "cell_type": "markdown",
      "source": [
        "23. What is the role of Flask’s session object?\n",
        "\n",
        "    It stores data (like user info) across requests. It uses secure cookies to maintain state.\n"
      ],
      "metadata": {
        "id": "n9nz5JQ54uuD"
      }
    },
    {
      "cell_type": "markdown",
      "source": [
        "# Practical Questions"
      ],
      "metadata": {
        "id": "dVXsnVPw9v9j"
      }
    },
    {
      "cell_type": "code",
      "source": [
        "# 1. How do you define different routes with different HTTP methods in Flask?\n",
        "\n",
        "from flask import Flask, request\n",
        "\n",
        "app = Flask(__name__)\n",
        "\n",
        "@app.route('/data', methods=['GET', 'POST'])\n",
        "def handle_data():\n",
        "    if request.method == 'POST':\n",
        "        return 'POST request received'\n",
        "    return 'GET request received'\n"
      ],
      "metadata": {
        "id": "396d0bnz91NQ"
      },
      "execution_count": null,
      "outputs": []
    },
    {
      "cell_type": "code",
      "source": [
        "# 2. How do you render HTML templates in Flask?\n",
        "\n",
        "# Create a folder named templates/ and add an HTML file (e.g., index.html).\n",
        "\n",
        "from flask import Flask, render_template\n",
        "\n",
        "app = Flask(__name__)\n",
        "\n",
        "@app.route('/')\n",
        "def home():\n",
        "    return render_template('index.html')\n"
      ],
      "metadata": {
        "id": "a9zLERKO91Wa"
      },
      "execution_count": 7,
      "outputs": []
    },
    {
      "cell_type": "code",
      "source": [
        "#  3. How can you generate URLs for routes in Flask using url_for?\n",
        "\n",
        "from flask import Flask, url_for\n",
        "\n",
        "app = Flask(__name__)\n",
        "\n",
        "@app.route('/')\n",
        "def home():\n",
        "    return 'Home page'\n",
        "\n",
        "@app.route('/about')\n",
        "def about():\n",
        "    return 'About page'"
      ],
      "metadata": {
        "id": "rfHAEJoD91ex"
      },
      "execution_count": 8,
      "outputs": []
    },
    {
      "cell_type": "code",
      "source": [
        "# 6. How do you handle forms in Flask?\n",
        "\n",
        "from flask import Flask, request, render_template\n",
        "\n",
        "app = Flask(__name__)\n",
        "\n",
        "@app.route('/form', methods=['GET', 'POST'])\n",
        "def form():\n",
        "    if request.method == 'POST':\n",
        "        return f\"Hello, {request.form['username']}\"\n",
        "    return render_template('form.html')\n"
      ],
      "metadata": {
        "id": "xf8CGX2W91qU"
      },
      "execution_count": 9,
      "outputs": []
    },
    {
      "cell_type": "code",
      "source": [
        "# 7. How can you validate form data in Flask?\n",
        "\n",
        "@app.route('/form', methods=['POST'])\n",
        "def validate_form():\n",
        "    username = request.form.get('username')\n",
        "    if not username:\n",
        "        return 'Username is required'\n",
        "    return f'Welcome {username}'\n"
      ],
      "metadata": {
        "id": "c_mWrBA3912D"
      },
      "execution_count": 10,
      "outputs": []
    },
    {
      "cell_type": "code",
      "source": [
        "# 8. How do you manage sessions in Flask?\n",
        "\n",
        "from flask import Flask, session\n",
        "\n",
        "app = Flask(__name__)\n",
        "app.secret_key = 'your_secret_key'\n",
        "\n",
        "@app.route('/login')\n",
        "def login():\n",
        "    session['user'] = 'admin'\n",
        "    return 'Logged in'\n",
        "\n",
        "@app.route('/profile')\n",
        "def profile():\n",
        "    return f\"Hello, {session.get('user')}\"\n"
      ],
      "metadata": {
        "id": "gdaVO2kw92AD"
      },
      "execution_count": 11,
      "outputs": []
    },
    {
      "cell_type": "code",
      "source": [
        "# 9. How do you redirect to a different route in Flask?\n",
        "\n",
        "from flask import Flask, redirect, url_for\n",
        "\n",
        "app = Flask(__name__)\n",
        "\n",
        "@app.route('/redirect')\n",
        "def redirect_to_home():\n",
        "    return redirect(url_for('home'))"
      ],
      "metadata": {
        "id": "jOQAlM9c92LZ"
      },
      "execution_count": 12,
      "outputs": []
    },
    {
      "cell_type": "code",
      "source": [
        "# 10. How do you handle errors in Flask (e.g., 404)?\n",
        "\n",
        "@app.errorhandler(404)\n",
        "def page_not_found(error):\n",
        "    return 'Page not found', 404"
      ],
      "metadata": {
        "id": "IZqllzgm92Wk"
      },
      "execution_count": 13,
      "outputs": []
    },
    {
      "cell_type": "code",
      "source": [
        "# 11. How do you structure a Flask app using Blueprints?\n",
        "\n",
        "from flask import Blueprint\n",
        "\n",
        "admin_bp = Blueprint('admin', __name__)\n",
        "\n",
        "@admin_bp.route('/dashboard')\n",
        "def dashboard():\n",
        "    return 'Admin Dashboard'\n"
      ],
      "metadata": {
        "id": "XDm2w5AY92m5"
      },
      "execution_count": 15,
      "outputs": []
    },
    {
      "cell_type": "code",
      "source": [
        "#  12. How do you define a custom Jinja filter in Flask?\n",
        "\n",
        "@app.template_filter('reverse')\n",
        "def reverse_string(s):\n",
        "    return s[::-1]\n"
      ],
      "metadata": {
        "id": "efzA4AE_92wH"
      },
      "execution_count": 16,
      "outputs": []
    },
    {
      "cell_type": "code",
      "source": [
        "# 13. How can you redirect with query parameters in Flask?\n",
        "\n",
        "from flask import redirect, url_for\n",
        "\n",
        "@app.route('/redirect')\n",
        "def go():\n",
        "    return redirect(url_for('hello', name='John'))\n",
        "\n",
        "@app.route('/hello')\n",
        "def hello():\n",
        "    name = request.args.get('name')\n",
        "    return f\"Hello {name}\"\n"
      ],
      "metadata": {
        "id": "92yCzRhv9250"
      },
      "execution_count": 17,
      "outputs": []
    },
    {
      "cell_type": "code",
      "source": [
        "#  14. How do you return JSON responses in Flask?\n",
        "\n",
        "from flask import jsonify\n",
        "\n",
        "@app.route('/api')\n",
        "def api():\n",
        "    return jsonify({'message': 'Hello, API'})\n"
      ],
      "metadata": {
        "id": "MiHxub8V93Df"
      },
      "execution_count": 18,
      "outputs": []
    },
    {
      "cell_type": "code",
      "source": [
        "# 15. How do you capture URL parameters in Flask?\n",
        "@app.route('/user/<username>')\n",
        "def show_user(username):\n",
        "    return f'User: {username}'\n",
        "\n"
      ],
      "metadata": {
        "id": "BES45BPN93Lt"
      },
      "execution_count": 19,
      "outputs": []
    }
  ]
}